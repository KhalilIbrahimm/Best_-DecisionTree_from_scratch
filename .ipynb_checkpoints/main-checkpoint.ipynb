{
 "cells": [
  {
   "cell_type": "markdown",
   "metadata": {},
   "source": [
    "# Installerer pakkene"
   ]
  },
  {
   "cell_type": "code",
   "execution_count": 1,
   "metadata": {},
   "outputs": [],
   "source": [
    "import pandas as pd\n",
    "import numpy as np\n",
    "from DecisionTree import DecisionTree\n",
    "from sklearn.model_selection import train_test_split\n",
    "from sklearn.tree import DecisionTreeClassifier\n",
    "from sklearn.metrics import accuracy_score\n",
    "from sklearn.model_selection import StratifiedKFold"
   ]
  },
  {
   "cell_type": "markdown",
   "metadata": {},
   "source": [
    "# Seed"
   ]
  },
  {
   "cell_type": "code",
   "execution_count": 2,
   "metadata": {},
   "outputs": [],
   "source": [
    "seed = 123"
   ]
  },
  {
   "cell_type": "markdown",
   "metadata": {},
   "source": [
    "# Datasett"
   ]
  },
  {
   "cell_type": "code",
   "execution_count": 3,
   "metadata": {},
   "outputs": [],
   "source": [
    "data = pd.read_csv(\"data/wine_dataset.csv\")\n",
    "data.head()\n",
    "X = data.loc[:,:\"alcohol\"]\n",
    "y = data.loc[:,\"type\"]"
   ]
  },
  {
   "cell_type": "code",
   "execution_count": 4,
   "metadata": {},
   "outputs": [],
   "source": [
    "#Split the data into training and testing sets\n",
    "X_train,X_val_test,y_train,y_val_test = train_test_split(X,y,test_size=0.3, random_state=seed)"
   ]
  },
  {
   "cell_type": "code",
   "execution_count": 5,
   "metadata": {},
   "outputs": [],
   "source": [
    "# Split the data into validation sets\n",
    "X_test, X_val, y_test, y_val = train_test_split(X_val_test, y_val_test, test_size=0.5, random_state=seed)"
   ]
  },
  {
   "cell_type": "markdown",
   "metadata": {},
   "source": [
    "# Implement the model with entropy and Gini."
   ]
  },
  {
   "cell_type": "code",
   "execution_count": 6,
   "metadata": {},
   "outputs": [],
   "source": [
    "# Implement the model with entropy and Gini\n",
    "category = [\"entropy\", \"gini\"]\n",
    "prune_list = [True, False]\n",
    "results = {}\n",
    "\n",
    "for impurity in category:\n",
    "    for prune in prune_list:\n",
    "        model = DecisionTree(impurity_measure=impurity, random_state=seed)\n",
    "        model.learn(X_train, y_train, impurity, prune)\n",
    "        model_predictions = np.array(model.predict(X_val))\n",
    "\n",
    "        # Find accuracy score for my model\n",
    "        model_accuracy = accuracy_score(y_val, model_predictions)\n",
    "\n",
    "        results[(impurity, prune)] = {model: model_accuracy}\n",
    "\n",
    "# Find the best model based on validation accuracy\n",
    "best_model_parameters = max(results.items(), key=lambda x: list(x[1].values()))\n",
    "best_model_impurity_measure = best_model_parameters[0]\n",
    "best_model_accuracy_score = max(best_model_parameters[1].values())\n",
    "\n",
    "# The best model chosen is the one with the highest accuracy score\n",
    "best_model_chosen = max(best_model_parameters[1], key=best_model_parameters[1].get)"
   ]
  },
  {
   "cell_type": "code",
   "execution_count": 7,
   "metadata": {},
   "outputs": [],
   "source": [
    "# Test the best selected model on the X_test dataset\n",
    "final_y_pred = best_model_chosen.predict(X_test)\n",
    "final_model_accuracy_score = accuracy_score(y_test, final_y_pred)"
   ]
  },
  {
   "cell_type": "markdown",
   "metadata": {},
   "source": [
    "# Implement impurity measure (entropy and Gini) models using Scikit-Learn!"
   ]
  },
  {
   "cell_type": "code",
   "execution_count": 8,
   "metadata": {},
   "outputs": [],
   "source": [
    "# Implement impurity measure models using Scikit-Learn\n",
    "sklearn_results = {}\n",
    "for model in category:\n",
    "    sklearn_model = DecisionTreeClassifier(criterion=model, random_state=seed)\n",
    "    sklearn_model.fit(X_train, y_train)\n",
    "    sklearn_model_pred = sklearn_model.predict(X_val)\n",
    "    sklearn_model_accuracy = accuracy_score(y_val, sklearn_model_pred)\n",
    "    sklearn_results[(sklearn_model, model)] = sklearn_model_accuracy\n",
    "\n",
    "# Find the best Scikit-Learn model that achieved the highest accuracy\n",
    "best_sklearn_model_parameters = max(zip(sklearn_results.values(), sklearn_results.keys()))\n",
    "best_sklearn_impurity_measure = best_sklearn_model_parameters[1]\n",
    "best_sklearn_model = best_sklearn_model_parameters[1][0]\n",
    "\n",
    "# Take the selected model further and predict it on the entire X_test dataset, then test its accuracy\n",
    "final_sklearn_pred = best_sklearn_model.predict(X_test)\n",
    "final_sklearn_accuracy_score = accuracy_score(y_test, final_sklearn_pred)"
   ]
  },
  {
   "cell_type": "markdown",
   "metadata": {},
   "source": [
    "# Final results"
   ]
  },
  {
   "cell_type": "code",
   "execution_count": 9,
   "metadata": {},
   "outputs": [
    {
     "name": "stdout",
     "output_type": "stream",
     "text": [
      "1. Model accuracy score parameters:\n",
      "     - Model parameters: ('entropy', True), accuracy: 0.8354166666666667.\n",
      "     - Model parameters: ('entropy', False), accuracy: 0.8666666666666667.\n",
      "     - Model parameters: ('gini', True), accuracy: 0.8395833333333333.\n",
      "     - Model parameters: ('gini', False), accuracy: 0.86875.\n",
      "\n",
      "2. Scikit-Learn accuracy score parameters:\n",
      "    - Scikit-Learn model 'entropy' with accuracy score: 0.8895833333333333.\n",
      "    - Scikit-Learn model 'gini' with accuracy score: 0.88125.\n",
      "\n",
      "3. Best final accuracy score parameters:\n",
      "    - Model: ('gini', False), accuracy: 0.86875.\n",
      "    - Scikit-Learn: entropy, accuracy: 0.8895833333333333.\n",
      "\n",
      "--> 4. Final model accuracy scores:\n",
      "    - Final model accuracy score: 0.8583333333333333.\n",
      "    - Final Scikit-Learn model accuracy score: 0.8895833333333333.\n"
     ]
    }
   ],
   "source": [
    "# Calculate accuracy scores for different impurity measure models\n",
    "print(\"1. Model accuracy score parameters:\")\n",
    "for key, value in results.items():\n",
    "    print(f\"     - Model parameters: {key}, accuracy: {list(value.values())[0]}.\")\n",
    "\n",
    "print(\"\\n2. Scikit-Learn accuracy score parameters:\")\n",
    "for key, value in sklearn_results.items():\n",
    "    print(f\"    - Scikit-Learn model '{key[1]}' with accuracy score: {value}.\")\n",
    "\n",
    "print(\"\\n3. Best final accuracy score parameters:\")\n",
    "print(f\"    - Model: {best_model_parameters[0]}, accuracy: {best_model_accuracy_score}.\")\n",
    "print(f\"    - Scikit-Learn: {best_sklearn_model_parameters[1][1]}, accuracy: {best_sklearn_model_parameters[0]}.\")\n",
    "\n",
    "print(\"\\n--> 4. Final model accuracy scores:\")\n",
    "print(f\"    - Final model accuracy score: {final_model_accuracy_score}.\")\n",
    "print(f\"    - Final Scikit-Learn model accuracy score: {final_sklearn_accuracy_score}.\")"
   ]
  }
 ],
 "metadata": {
  "interpreter": {
   "hash": "6b1a6e508a2e04c12f12ec7a56e0984df2d6183be0c48298be011f2ab1c84e0e"
  },
  "kernelspec": {
   "display_name": "Python 3 (ipykernel)",
   "language": "python",
   "name": "python3"
  },
  "language_info": {
   "codemirror_mode": {
    "name": "ipython",
    "version": 3
   },
   "file_extension": ".py",
   "mimetype": "text/x-python",
   "name": "python",
   "nbconvert_exporter": "python",
   "pygments_lexer": "ipython3",
   "version": "3.11.4"
  }
 },
 "nbformat": 4,
 "nbformat_minor": 4
}
